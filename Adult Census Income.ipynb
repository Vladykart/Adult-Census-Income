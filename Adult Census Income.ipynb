{
 "cells": [
  {
   "cell_type": "code",
   "execution_count": 1,
   "metadata": {},
   "outputs": [
    {
     "data": {
      "application/javascript": [
       "\n",
       "            setTimeout(function() {\n",
       "                var nbb_cell_id = 1;\n",
       "                var nbb_unformatted_code = \"%load_ext nb_black\";\n",
       "                var nbb_formatted_code = \"%load_ext nb_black\";\n",
       "                var nbb_cells = Jupyter.notebook.get_cells();\n",
       "                for (var i = 0; i < nbb_cells.length; ++i) {\n",
       "                    if (nbb_cells[i].input_prompt_number == nbb_cell_id) {\n",
       "                        if (nbb_cells[i].get_text() == nbb_unformatted_code) {\n",
       "                             nbb_cells[i].set_text(nbb_formatted_code);\n",
       "                        }\n",
       "                        break;\n",
       "                    }\n",
       "                }\n",
       "            }, 500);\n",
       "            "
      ],
      "text/plain": [
       "<IPython.core.display.Javascript object>"
      ]
     },
     "metadata": {},
     "output_type": "display_data"
    }
   ],
   "source": [
    "%load_ext nb_black"
   ]
  },
  {
   "cell_type": "markdown",
   "metadata": {},
   "source": [
    "# Test task for Junior Data Science Engineer\n",
    "\n",
    "\n",
    "\n",
    "You can find dataset here: [dataset for test task.](https://www.kaggle.com/uciml/adult-census-income)<br>\n",
    "<blockquote>\n",
    "The goal of the test project is to build binary classification model.<br>\n",
    "There is no prefered algorithms for solution, you can choose anyone.<br>\n",
    "In the best case you should build several models and compare scores.<br>\n",
    "Programing language - python. </blockquote>\n"
   ]
  },
  {
   "cell_type": "markdown",
   "metadata": {},
   "source": [
    "This data was extracted from the 1994 Census bureau database by Ronny Kohavi and Barry Becker <br> \n",
    "(Data Mining and Visualization, Silicon Graphics).<br>\n",
    "A set of reasonably clean records was extracted using the following conditions:<br>\n",
    "((AAGE>16) && (AGI>100) && (AFNLWGT>1) && (HRSWK>0)).<br>\n",
    "The prediction task is to determine whether a person makes over $50K a year.<br>\n",
    "\n",
    "Description of fnlwgt (final weight)<br>\n",
    "The weights on the Current Population Survey (CPS) files are controlled to independent estimates of the civilian<br>\n",
    "noninstitutional population of the US. <br>\n",
    "These are prepared monthly for us by Population Division here at the Census Bureau. We use 3 sets of controls.<br>\n",
    "These are:<br>\n",
    "\n",
    "- A single cell estimate of the population 16+ for each state.\n",
    "\n",
    "- Controls for Hispanic Origin by age and sex.\n",
    "\n",
    "- Controls by Race, age and sex.\n",
    "\n",
    "We use all three sets of controls in our weighting program and \"rake\" through them 6 times<br>\n",
    "so that by the end we come back to all the controls we used.<br>\n",
    "The term estimate refers to population totals derived from CPS by creating \"weighted tallies\"<br>\n",
    "of any specified socio-economic characteristics of the population.<br>\n",
    "People with similar demographic characteristics should have similar weights. <br>\n",
    "There is one important caveat to remember about this statement.<br>\n",
    "That is that since the CPS sample is actually a collection of 51 state samples, <br>\n",
    "each with its own probability of selection, the statement only applies within state.<br>\n",
    "\n",
    "Relevant papers\n",
    "Ron Kohavi, \"Scaling Up the Accuracy of Naive-Bayes Classifiers: a Decision-Tree Hybrid\",<br>\n",
    "Proceedings of the Second International Conference on Knowledge Discovery and Data Mining, 1996. (PDF)\n"
   ]
  },
  {
   "cell_type": "code",
   "execution_count": 2,
   "metadata": {
    "scrolled": true
   },
   "outputs": [
    {
     "data": {
      "application/javascript": [
       "\n",
       "            setTimeout(function() {\n",
       "                var nbb_cell_id = 2;\n",
       "                var nbb_unformatted_code = \"import numpy as np\\nimport pandas as pd\\n\\nimport matplotlib.pyplot as plt\\nimport seaborn as sns\\n\\n%matplotlib inline\\n# ignore warnings\\nimport warnings\\n\\nwarnings.filterwarnings(\\\"ignore\\\")\";\n",
       "                var nbb_formatted_code = \"import numpy as np\\nimport pandas as pd\\n\\nimport matplotlib.pyplot as plt\\nimport seaborn as sns\\n\\n%matplotlib inline\\n# ignore warnings\\nimport warnings\\n\\nwarnings.filterwarnings(\\\"ignore\\\")\";\n",
       "                var nbb_cells = Jupyter.notebook.get_cells();\n",
       "                for (var i = 0; i < nbb_cells.length; ++i) {\n",
       "                    if (nbb_cells[i].input_prompt_number == nbb_cell_id) {\n",
       "                        if (nbb_cells[i].get_text() == nbb_unformatted_code) {\n",
       "                             nbb_cells[i].set_text(nbb_formatted_code);\n",
       "                        }\n",
       "                        break;\n",
       "                    }\n",
       "                }\n",
       "            }, 500);\n",
       "            "
      ],
      "text/plain": [
       "<IPython.core.display.Javascript object>"
      ]
     },
     "metadata": {},
     "output_type": "display_data"
    }
   ],
   "source": [
    "import numpy as np\n",
    "import pandas as pd\n",
    "\n",
    "import matplotlib.pyplot as plt\n",
    "import seaborn as sns\n",
    "\n",
    "%matplotlib inline\n",
    "# ignore warnings\n",
    "import warnings\n",
    "\n",
    "warnings.filterwarnings(\"ignore\")"
   ]
  },
  {
   "cell_type": "markdown",
   "metadata": {},
   "source": [
    "## Read data"
   ]
  },
  {
   "cell_type": "code",
   "execution_count": 3,
   "metadata": {},
   "outputs": [
    {
     "data": {
      "text/html": [
       "<div>\n",
       "<style scoped>\n",
       "    .dataframe tbody tr th:only-of-type {\n",
       "        vertical-align: middle;\n",
       "    }\n",
       "\n",
       "    .dataframe tbody tr th {\n",
       "        vertical-align: top;\n",
       "    }\n",
       "\n",
       "    .dataframe thead th {\n",
       "        text-align: right;\n",
       "    }\n",
       "</style>\n",
       "<table border=\"1\" class=\"dataframe\">\n",
       "  <thead>\n",
       "    <tr style=\"text-align: right;\">\n",
       "      <th></th>\n",
       "      <th>age</th>\n",
       "      <th>workclass</th>\n",
       "      <th>fnlwgt</th>\n",
       "      <th>education</th>\n",
       "      <th>education.num</th>\n",
       "      <th>marital.status</th>\n",
       "      <th>occupation</th>\n",
       "      <th>relationship</th>\n",
       "      <th>race</th>\n",
       "      <th>sex</th>\n",
       "      <th>capital.gain</th>\n",
       "      <th>capital.loss</th>\n",
       "      <th>hours.per.week</th>\n",
       "      <th>native.country</th>\n",
       "      <th>income</th>\n",
       "    </tr>\n",
       "  </thead>\n",
       "  <tbody>\n",
       "    <tr>\n",
       "      <th>0</th>\n",
       "      <td>90</td>\n",
       "      <td>?</td>\n",
       "      <td>77053</td>\n",
       "      <td>HS-grad</td>\n",
       "      <td>9</td>\n",
       "      <td>Widowed</td>\n",
       "      <td>?</td>\n",
       "      <td>Not-in-family</td>\n",
       "      <td>White</td>\n",
       "      <td>Female</td>\n",
       "      <td>0</td>\n",
       "      <td>4356</td>\n",
       "      <td>40</td>\n",
       "      <td>United-States</td>\n",
       "      <td>&lt;=50K</td>\n",
       "    </tr>\n",
       "    <tr>\n",
       "      <th>1</th>\n",
       "      <td>82</td>\n",
       "      <td>Private</td>\n",
       "      <td>132870</td>\n",
       "      <td>HS-grad</td>\n",
       "      <td>9</td>\n",
       "      <td>Widowed</td>\n",
       "      <td>Exec-managerial</td>\n",
       "      <td>Not-in-family</td>\n",
       "      <td>White</td>\n",
       "      <td>Female</td>\n",
       "      <td>0</td>\n",
       "      <td>4356</td>\n",
       "      <td>18</td>\n",
       "      <td>United-States</td>\n",
       "      <td>&lt;=50K</td>\n",
       "    </tr>\n",
       "    <tr>\n",
       "      <th>2</th>\n",
       "      <td>66</td>\n",
       "      <td>?</td>\n",
       "      <td>186061</td>\n",
       "      <td>Some-college</td>\n",
       "      <td>10</td>\n",
       "      <td>Widowed</td>\n",
       "      <td>?</td>\n",
       "      <td>Unmarried</td>\n",
       "      <td>Black</td>\n",
       "      <td>Female</td>\n",
       "      <td>0</td>\n",
       "      <td>4356</td>\n",
       "      <td>40</td>\n",
       "      <td>United-States</td>\n",
       "      <td>&lt;=50K</td>\n",
       "    </tr>\n",
       "    <tr>\n",
       "      <th>3</th>\n",
       "      <td>54</td>\n",
       "      <td>Private</td>\n",
       "      <td>140359</td>\n",
       "      <td>7th-8th</td>\n",
       "      <td>4</td>\n",
       "      <td>Divorced</td>\n",
       "      <td>Machine-op-inspct</td>\n",
       "      <td>Unmarried</td>\n",
       "      <td>White</td>\n",
       "      <td>Female</td>\n",
       "      <td>0</td>\n",
       "      <td>3900</td>\n",
       "      <td>40</td>\n",
       "      <td>United-States</td>\n",
       "      <td>&lt;=50K</td>\n",
       "    </tr>\n",
       "    <tr>\n",
       "      <th>4</th>\n",
       "      <td>41</td>\n",
       "      <td>Private</td>\n",
       "      <td>264663</td>\n",
       "      <td>Some-college</td>\n",
       "      <td>10</td>\n",
       "      <td>Separated</td>\n",
       "      <td>Prof-specialty</td>\n",
       "      <td>Own-child</td>\n",
       "      <td>White</td>\n",
       "      <td>Female</td>\n",
       "      <td>0</td>\n",
       "      <td>3900</td>\n",
       "      <td>40</td>\n",
       "      <td>United-States</td>\n",
       "      <td>&lt;=50K</td>\n",
       "    </tr>\n",
       "    <tr>\n",
       "      <th>5</th>\n",
       "      <td>34</td>\n",
       "      <td>Private</td>\n",
       "      <td>216864</td>\n",
       "      <td>HS-grad</td>\n",
       "      <td>9</td>\n",
       "      <td>Divorced</td>\n",
       "      <td>Other-service</td>\n",
       "      <td>Unmarried</td>\n",
       "      <td>White</td>\n",
       "      <td>Female</td>\n",
       "      <td>0</td>\n",
       "      <td>3770</td>\n",
       "      <td>45</td>\n",
       "      <td>United-States</td>\n",
       "      <td>&lt;=50K</td>\n",
       "    </tr>\n",
       "    <tr>\n",
       "      <th>6</th>\n",
       "      <td>38</td>\n",
       "      <td>Private</td>\n",
       "      <td>150601</td>\n",
       "      <td>10th</td>\n",
       "      <td>6</td>\n",
       "      <td>Separated</td>\n",
       "      <td>Adm-clerical</td>\n",
       "      <td>Unmarried</td>\n",
       "      <td>White</td>\n",
       "      <td>Male</td>\n",
       "      <td>0</td>\n",
       "      <td>3770</td>\n",
       "      <td>40</td>\n",
       "      <td>United-States</td>\n",
       "      <td>&lt;=50K</td>\n",
       "    </tr>\n",
       "    <tr>\n",
       "      <th>7</th>\n",
       "      <td>74</td>\n",
       "      <td>State-gov</td>\n",
       "      <td>88638</td>\n",
       "      <td>Doctorate</td>\n",
       "      <td>16</td>\n",
       "      <td>Never-married</td>\n",
       "      <td>Prof-specialty</td>\n",
       "      <td>Other-relative</td>\n",
       "      <td>White</td>\n",
       "      <td>Female</td>\n",
       "      <td>0</td>\n",
       "      <td>3683</td>\n",
       "      <td>20</td>\n",
       "      <td>United-States</td>\n",
       "      <td>&gt;50K</td>\n",
       "    </tr>\n",
       "    <tr>\n",
       "      <th>8</th>\n",
       "      <td>68</td>\n",
       "      <td>Federal-gov</td>\n",
       "      <td>422013</td>\n",
       "      <td>HS-grad</td>\n",
       "      <td>9</td>\n",
       "      <td>Divorced</td>\n",
       "      <td>Prof-specialty</td>\n",
       "      <td>Not-in-family</td>\n",
       "      <td>White</td>\n",
       "      <td>Female</td>\n",
       "      <td>0</td>\n",
       "      <td>3683</td>\n",
       "      <td>40</td>\n",
       "      <td>United-States</td>\n",
       "      <td>&lt;=50K</td>\n",
       "    </tr>\n",
       "    <tr>\n",
       "      <th>9</th>\n",
       "      <td>41</td>\n",
       "      <td>Private</td>\n",
       "      <td>70037</td>\n",
       "      <td>Some-college</td>\n",
       "      <td>10</td>\n",
       "      <td>Never-married</td>\n",
       "      <td>Craft-repair</td>\n",
       "      <td>Unmarried</td>\n",
       "      <td>White</td>\n",
       "      <td>Male</td>\n",
       "      <td>0</td>\n",
       "      <td>3004</td>\n",
       "      <td>60</td>\n",
       "      <td>?</td>\n",
       "      <td>&gt;50K</td>\n",
       "    </tr>\n",
       "    <tr>\n",
       "      <th>10</th>\n",
       "      <td>45</td>\n",
       "      <td>Private</td>\n",
       "      <td>172274</td>\n",
       "      <td>Doctorate</td>\n",
       "      <td>16</td>\n",
       "      <td>Divorced</td>\n",
       "      <td>Prof-specialty</td>\n",
       "      <td>Unmarried</td>\n",
       "      <td>Black</td>\n",
       "      <td>Female</td>\n",
       "      <td>0</td>\n",
       "      <td>3004</td>\n",
       "      <td>35</td>\n",
       "      <td>United-States</td>\n",
       "      <td>&gt;50K</td>\n",
       "    </tr>\n",
       "    <tr>\n",
       "      <th>11</th>\n",
       "      <td>38</td>\n",
       "      <td>Self-emp-not-inc</td>\n",
       "      <td>164526</td>\n",
       "      <td>Prof-school</td>\n",
       "      <td>15</td>\n",
       "      <td>Never-married</td>\n",
       "      <td>Prof-specialty</td>\n",
       "      <td>Not-in-family</td>\n",
       "      <td>White</td>\n",
       "      <td>Male</td>\n",
       "      <td>0</td>\n",
       "      <td>2824</td>\n",
       "      <td>45</td>\n",
       "      <td>United-States</td>\n",
       "      <td>&gt;50K</td>\n",
       "    </tr>\n",
       "    <tr>\n",
       "      <th>12</th>\n",
       "      <td>52</td>\n",
       "      <td>Private</td>\n",
       "      <td>129177</td>\n",
       "      <td>Bachelors</td>\n",
       "      <td>13</td>\n",
       "      <td>Widowed</td>\n",
       "      <td>Other-service</td>\n",
       "      <td>Not-in-family</td>\n",
       "      <td>White</td>\n",
       "      <td>Female</td>\n",
       "      <td>0</td>\n",
       "      <td>2824</td>\n",
       "      <td>20</td>\n",
       "      <td>United-States</td>\n",
       "      <td>&gt;50K</td>\n",
       "    </tr>\n",
       "  </tbody>\n",
       "</table>\n",
       "</div>"
      ],
      "text/plain": [
       "    age         workclass  fnlwgt     education  education.num marital.status  \\\n",
       "0    90                 ?   77053       HS-grad              9        Widowed   \n",
       "1    82           Private  132870       HS-grad              9        Widowed   \n",
       "2    66                 ?  186061  Some-college             10        Widowed   \n",
       "3    54           Private  140359       7th-8th              4       Divorced   \n",
       "4    41           Private  264663  Some-college             10      Separated   \n",
       "5    34           Private  216864       HS-grad              9       Divorced   \n",
       "6    38           Private  150601          10th              6      Separated   \n",
       "7    74         State-gov   88638     Doctorate             16  Never-married   \n",
       "8    68       Federal-gov  422013       HS-grad              9       Divorced   \n",
       "9    41           Private   70037  Some-college             10  Never-married   \n",
       "10   45           Private  172274     Doctorate             16       Divorced   \n",
       "11   38  Self-emp-not-inc  164526   Prof-school             15  Never-married   \n",
       "12   52           Private  129177     Bachelors             13        Widowed   \n",
       "\n",
       "           occupation    relationship   race     sex  capital.gain  \\\n",
       "0                   ?   Not-in-family  White  Female             0   \n",
       "1     Exec-managerial   Not-in-family  White  Female             0   \n",
       "2                   ?       Unmarried  Black  Female             0   \n",
       "3   Machine-op-inspct       Unmarried  White  Female             0   \n",
       "4      Prof-specialty       Own-child  White  Female             0   \n",
       "5       Other-service       Unmarried  White  Female             0   \n",
       "6        Adm-clerical       Unmarried  White    Male             0   \n",
       "7      Prof-specialty  Other-relative  White  Female             0   \n",
       "8      Prof-specialty   Not-in-family  White  Female             0   \n",
       "9        Craft-repair       Unmarried  White    Male             0   \n",
       "10     Prof-specialty       Unmarried  Black  Female             0   \n",
       "11     Prof-specialty   Not-in-family  White    Male             0   \n",
       "12      Other-service   Not-in-family  White  Female             0   \n",
       "\n",
       "    capital.loss  hours.per.week native.country income  \n",
       "0           4356              40  United-States  <=50K  \n",
       "1           4356              18  United-States  <=50K  \n",
       "2           4356              40  United-States  <=50K  \n",
       "3           3900              40  United-States  <=50K  \n",
       "4           3900              40  United-States  <=50K  \n",
       "5           3770              45  United-States  <=50K  \n",
       "6           3770              40  United-States  <=50K  \n",
       "7           3683              20  United-States   >50K  \n",
       "8           3683              40  United-States  <=50K  \n",
       "9           3004              60              ?   >50K  \n",
       "10          3004              35  United-States   >50K  \n",
       "11          2824              45  United-States   >50K  \n",
       "12          2824              20  United-States   >50K  "
      ]
     },
     "execution_count": 3,
     "metadata": {},
     "output_type": "execute_result"
    },
    {
     "data": {
      "application/javascript": [
       "\n",
       "            setTimeout(function() {\n",
       "                var nbb_cell_id = 3;\n",
       "                var nbb_unformatted_code = \"# read data\\nfile = \\\"adult.csv\\\"\\nraw_df = pd.read_csv(file)\\nraw_df.head(13)\";\n",
       "                var nbb_formatted_code = \"# read data\\nfile = \\\"adult.csv\\\"\\nraw_df = pd.read_csv(file)\\nraw_df.head(13)\";\n",
       "                var nbb_cells = Jupyter.notebook.get_cells();\n",
       "                for (var i = 0; i < nbb_cells.length; ++i) {\n",
       "                    if (nbb_cells[i].input_prompt_number == nbb_cell_id) {\n",
       "                        if (nbb_cells[i].get_text() == nbb_unformatted_code) {\n",
       "                             nbb_cells[i].set_text(nbb_formatted_code);\n",
       "                        }\n",
       "                        break;\n",
       "                    }\n",
       "                }\n",
       "            }, 500);\n",
       "            "
      ],
      "text/plain": [
       "<IPython.core.display.Javascript object>"
      ]
     },
     "metadata": {},
     "output_type": "display_data"
    }
   ],
   "source": [
    "# read data\n",
    "file = \"adult.csv\"\n",
    "raw_df = pd.read_csv(file)\n",
    "raw_df.head(13)"
   ]
  },
  {
   "cell_type": "markdown",
   "metadata": {},
   "source": [
    "Table contains the values \"?\"\n",
    "they need to be filled as Nan values."
   ]
  },
  {
   "cell_type": "markdown",
   "metadata": {},
   "source": [
    "##  Data Cleaning\n",
    "Encode '?' as NaN"
   ]
  },
  {
   "cell_type": "code",
   "execution_count": 4,
   "metadata": {},
   "outputs": [
    {
     "data": {
      "text/plain": [
       "age                  0\n",
       "workclass         1836\n",
       "fnlwgt               0\n",
       "education            0\n",
       "education.num        0\n",
       "marital.status       0\n",
       "occupation        1843\n",
       "relationship         0\n",
       "race                 0\n",
       "sex                  0\n",
       "capital.gain         0\n",
       "capital.loss         0\n",
       "hours.per.week       0\n",
       "native.country     583\n",
       "income               0\n",
       "dtype: int64"
      ]
     },
     "execution_count": 4,
     "metadata": {},
     "output_type": "execute_result"
    },
    {
     "data": {
      "application/javascript": [
       "\n",
       "            setTimeout(function() {\n",
       "                var nbb_cell_id = 4;\n",
       "                var nbb_unformatted_code = \"raw_df[raw_df == \\\"?\\\"] = np.nan\\nraw_df.isnull().sum()  # Check for missing values\";\n",
       "                var nbb_formatted_code = \"raw_df[raw_df == \\\"?\\\"] = np.nan\\nraw_df.isnull().sum()  # Check for missing values\";\n",
       "                var nbb_cells = Jupyter.notebook.get_cells();\n",
       "                for (var i = 0; i < nbb_cells.length; ++i) {\n",
       "                    if (nbb_cells[i].input_prompt_number == nbb_cell_id) {\n",
       "                        if (nbb_cells[i].get_text() == nbb_unformatted_code) {\n",
       "                             nbb_cells[i].set_text(nbb_formatted_code);\n",
       "                        }\n",
       "                        break;\n",
       "                    }\n",
       "                }\n",
       "            }, 500);\n",
       "            "
      ],
      "text/plain": [
       "<IPython.core.display.Javascript object>"
      ]
     },
     "metadata": {},
     "output_type": "display_data"
    }
   ],
   "source": [
    "raw_df[raw_df == \"?\"] = np.nan\n",
    "raw_df.isnull().sum()  # Check for missing values"
   ]
  },
  {
   "cell_type": "markdown",
   "metadata": {},
   "source": [
    "## Impute missing values with most common class"
   ]
  },
  {
   "cell_type": "code",
   "execution_count": 5,
   "metadata": {},
   "outputs": [
    {
     "data": {
      "text/plain": [
       "age               0\n",
       "workclass         0\n",
       "fnlwgt            0\n",
       "education         0\n",
       "education.num     0\n",
       "marital.status    0\n",
       "occupation        0\n",
       "relationship      0\n",
       "race              0\n",
       "sex               0\n",
       "capital.gain      0\n",
       "capital.loss      0\n",
       "hours.per.week    0\n",
       "native.country    0\n",
       "income            0\n",
       "dtype: int64"
      ]
     },
     "execution_count": 5,
     "metadata": {},
     "output_type": "execute_result"
    },
    {
     "data": {
      "application/javascript": [
       "\n",
       "            setTimeout(function() {\n",
       "                var nbb_cell_id = 5;\n",
       "                var nbb_unformatted_code = \"# for each column, get value counts in decreasing order and take the index (value) of most common class\\ndf_most_common_imputed = raw_df.apply(lambda x: x.fillna(x.value_counts().index[0]))\\ndf_most_common_imputed.isnull().sum()\";\n",
       "                var nbb_formatted_code = \"# for each column, get value counts in decreasing order and take the index (value) of most common class\\ndf_most_common_imputed = raw_df.apply(lambda x: x.fillna(x.value_counts().index[0]))\\ndf_most_common_imputed.isnull().sum()\";\n",
       "                var nbb_cells = Jupyter.notebook.get_cells();\n",
       "                for (var i = 0; i < nbb_cells.length; ++i) {\n",
       "                    if (nbb_cells[i].input_prompt_number == nbb_cell_id) {\n",
       "                        if (nbb_cells[i].get_text() == nbb_unformatted_code) {\n",
       "                             nbb_cells[i].set_text(nbb_formatted_code);\n",
       "                        }\n",
       "                        break;\n",
       "                    }\n",
       "                }\n",
       "            }, 500);\n",
       "            "
      ],
      "text/plain": [
       "<IPython.core.display.Javascript object>"
      ]
     },
     "metadata": {},
     "output_type": "display_data"
    }
   ],
   "source": [
    "# for each column, get value counts in decreasing order and take the index (value) of most common class\n",
    "df_most_common_imputed = raw_df.apply(lambda x: x.fillna(x.value_counts().index[0]))\n",
    "df_most_common_imputed.isnull().sum()"
   ]
  },
  {
   "cell_type": "markdown",
   "metadata": {},
   "source": [
    "## Analising columns values"
   ]
  },
  {
   "cell_type": "code",
   "execution_count": 6,
   "metadata": {},
   "outputs": [
    {
     "name": "stdout",
     "output_type": "stream",
     "text": [
      "Work class categories \n",
      "\n",
      "['Private' 'State-gov' 'Federal-gov' 'Self-emp-not-inc' 'Self-emp-inc'\n",
      " 'Local-gov' 'Without-pay' 'Never-worked']\n"
     ]
    },
    {
     "data": {
      "application/javascript": [
       "\n",
       "            setTimeout(function() {\n",
       "                var nbb_cell_id = 6;\n",
       "                var nbb_unformatted_code = \"dataset = df_most_common_imputed\\nprint(\\\"Work class categories \\\\n\\\")\\nprint(dataset[\\\"workclass\\\"].unique())\";\n",
       "                var nbb_formatted_code = \"dataset = df_most_common_imputed\\nprint(\\\"Work class categories \\\\n\\\")\\nprint(dataset[\\\"workclass\\\"].unique())\";\n",
       "                var nbb_cells = Jupyter.notebook.get_cells();\n",
       "                for (var i = 0; i < nbb_cells.length; ++i) {\n",
       "                    if (nbb_cells[i].input_prompt_number == nbb_cell_id) {\n",
       "                        if (nbb_cells[i].get_text() == nbb_unformatted_code) {\n",
       "                             nbb_cells[i].set_text(nbb_formatted_code);\n",
       "                        }\n",
       "                        break;\n",
       "                    }\n",
       "                }\n",
       "            }, 500);\n",
       "            "
      ],
      "text/plain": [
       "<IPython.core.display.Javascript object>"
      ]
     },
     "metadata": {},
     "output_type": "display_data"
    }
   ],
   "source": [
    "dataset = df_most_common_imputed\n",
    "print(\"Work class categories \\n\")\n",
    "print(dataset[\"workclass\"].unique())"
   ]
  },
  {
   "cell_type": "code",
   "execution_count": 7,
   "metadata": {},
   "outputs": [
    {
     "name": "stdout",
     "output_type": "stream",
     "text": [
      "Education categories\n",
      "                  education\n",
      "education.num              \n",
      "1                 Preschool\n",
      "2                   1st-4th\n",
      "3                   5th-6th\n",
      "4                   7th-8th\n",
      "5                       9th\n",
      "6                      10th\n",
      "7                      11th\n",
      "8                      12th\n",
      "9                   HS-grad\n",
      "10             Some-college\n",
      "11                Assoc-voc\n",
      "12               Assoc-acdm\n",
      "13                Bachelors\n",
      "14                  Masters\n",
      "15              Prof-school\n",
      "16                Doctorate\n"
     ]
    },
    {
     "data": {
      "application/javascript": [
       "\n",
       "            setTimeout(function() {\n",
       "                var nbb_cell_id = 7;\n",
       "                var nbb_unformatted_code = \"print(\\\"Education categories\\\")\\neducation_dataset = dataset[[\\\"education\\\", \\\"education.num\\\"]]\\neducation_dataset = education_dataset.drop_duplicates()\\n\\ndata = {\\n    \\\"education\\\": education_dataset[\\\"education\\\"],\\n    \\\"education.num\\\": education_dataset[\\\"education.num\\\"],\\n}\\n\\neducation_dataset = pd.DataFrame(data=data)\\neducation_dataset[\\\"education\\\"].astype(\\\"category\\\")\\neducation_dataset.index = education_dataset[\\\"education.num\\\"]\\nprint(education_dataset[[\\\"education\\\"]].sort_values(\\\"education.num\\\"))\";\n",
       "                var nbb_formatted_code = \"print(\\\"Education categories\\\")\\neducation_dataset = dataset[[\\\"education\\\", \\\"education.num\\\"]]\\neducation_dataset = education_dataset.drop_duplicates()\\n\\ndata = {\\n    \\\"education\\\": education_dataset[\\\"education\\\"],\\n    \\\"education.num\\\": education_dataset[\\\"education.num\\\"],\\n}\\n\\neducation_dataset = pd.DataFrame(data=data)\\neducation_dataset[\\\"education\\\"].astype(\\\"category\\\")\\neducation_dataset.index = education_dataset[\\\"education.num\\\"]\\nprint(education_dataset[[\\\"education\\\"]].sort_values(\\\"education.num\\\"))\";\n",
       "                var nbb_cells = Jupyter.notebook.get_cells();\n",
       "                for (var i = 0; i < nbb_cells.length; ++i) {\n",
       "                    if (nbb_cells[i].input_prompt_number == nbb_cell_id) {\n",
       "                        if (nbb_cells[i].get_text() == nbb_unformatted_code) {\n",
       "                             nbb_cells[i].set_text(nbb_formatted_code);\n",
       "                        }\n",
       "                        break;\n",
       "                    }\n",
       "                }\n",
       "            }, 500);\n",
       "            "
      ],
      "text/plain": [
       "<IPython.core.display.Javascript object>"
      ]
     },
     "metadata": {},
     "output_type": "display_data"
    }
   ],
   "source": [
    "print(\"Education categories\")\n",
    "education_dataset = dataset[[\"education\", \"education.num\"]]\n",
    "education_dataset = education_dataset.drop_duplicates()\n",
    "\n",
    "data = {\n",
    "    \"education\": education_dataset[\"education\"],\n",
    "    \"education.num\": education_dataset[\"education.num\"],\n",
    "}\n",
    "\n",
    "education_dataset = pd.DataFrame(data=data)\n",
    "education_dataset[\"education\"].astype(\"category\")\n",
    "education_dataset.index = education_dataset[\"education.num\"]\n",
    "print(education_dataset[[\"education\"]].sort_values(\"education.num\"))"
   ]
  },
  {
   "cell_type": "markdown",
   "metadata": {},
   "source": [
    "The columns 'education' and 'education.num' represent the same information. <br>\n",
    "'education.num' is the respective label for an education level."
   ]
  },
  {
   "cell_type": "code",
   "execution_count": 8,
   "metadata": {},
   "outputs": [
    {
     "name": "stdout",
     "output_type": "stream",
     "text": [
      "marital status\n",
      "['Widowed' 'Divorced' 'Separated' 'Never-married' 'Married-civ-spouse'\n",
      " 'Married-spouse-absent' 'Married-AF-spouse']\n",
      " \n",
      " occupation\n",
      "['Prof-specialty' 'Exec-managerial' 'Machine-op-inspct' 'Other-service'\n",
      " 'Adm-clerical' 'Craft-repair' 'Transport-moving' 'Handlers-cleaners'\n",
      " 'Sales' 'Farming-fishing' 'Tech-support' 'Protective-serv' 'Armed-Forces'\n",
      " 'Priv-house-serv']\n",
      " \n",
      " relationship\n",
      "['Not-in-family' 'Unmarried' 'Own-child' 'Other-relative' 'Husband' 'Wife']\n",
      " \n",
      " race\n",
      "['White' 'Black' 'Asian-Pac-Islander' 'Other' 'Amer-Indian-Eskimo']\n",
      " \n",
      " native.country\n",
      "['United-States' 'Mexico' 'Greece' 'Vietnam' 'China' 'Taiwan' 'India'\n",
      " 'Philippines' 'Trinadad&Tobago' 'Canada' 'South' 'Holand-Netherlands'\n",
      " 'Puerto-Rico' 'Poland' 'Iran' 'England' 'Germany' 'Italy' 'Japan' 'Hong'\n",
      " 'Honduras' 'Cuba' 'Ireland' 'Cambodia' 'Peru' 'Nicaragua'\n",
      " 'Dominican-Republic' 'Haiti' 'El-Salvador' 'Hungary' 'Columbia'\n",
      " 'Guatemala' 'Jamaica' 'Ecuador' 'France' 'Yugoslavia' 'Scotland'\n",
      " 'Portugal' 'Laos' 'Thailand' 'Outlying-US(Guam-USVI-etc)']\n"
     ]
    },
    {
     "data": {
      "application/javascript": [
       "\n",
       "            setTimeout(function() {\n",
       "                var nbb_cell_id = 8;\n",
       "                var nbb_unformatted_code = \"dataset = df_most_common_imputed\\nprint(\\\"marital status\\\")\\nprint(dataset[\\\"marital.status\\\"].unique())\\nprint(\\\" \\\\n occupation\\\")\\nprint(dataset[\\\"occupation\\\"].unique())\\nprint(\\\" \\\\n relationship\\\")\\nprint(dataset[\\\"relationship\\\"].unique())\\nprint(\\\" \\\\n race\\\")\\nprint(dataset[\\\"race\\\"].unique())\\nprint(\\\" \\\\n native.country\\\")\\nprint(dataset[\\\"native.country\\\"].unique())\";\n",
       "                var nbb_formatted_code = \"dataset = df_most_common_imputed\\nprint(\\\"marital status\\\")\\nprint(dataset[\\\"marital.status\\\"].unique())\\nprint(\\\" \\\\n occupation\\\")\\nprint(dataset[\\\"occupation\\\"].unique())\\nprint(\\\" \\\\n relationship\\\")\\nprint(dataset[\\\"relationship\\\"].unique())\\nprint(\\\" \\\\n race\\\")\\nprint(dataset[\\\"race\\\"].unique())\\nprint(\\\" \\\\n native.country\\\")\\nprint(dataset[\\\"native.country\\\"].unique())\";\n",
       "                var nbb_cells = Jupyter.notebook.get_cells();\n",
       "                for (var i = 0; i < nbb_cells.length; ++i) {\n",
       "                    if (nbb_cells[i].input_prompt_number == nbb_cell_id) {\n",
       "                        if (nbb_cells[i].get_text() == nbb_unformatted_code) {\n",
       "                             nbb_cells[i].set_text(nbb_formatted_code);\n",
       "                        }\n",
       "                        break;\n",
       "                    }\n",
       "                }\n",
       "            }, 500);\n",
       "            "
      ],
      "text/plain": [
       "<IPython.core.display.Javascript object>"
      ]
     },
     "metadata": {},
     "output_type": "display_data"
    }
   ],
   "source": [
    "dataset = df_most_common_imputed\n",
    "print(\"marital status\")\n",
    "print(dataset[\"marital.status\"].unique())\n",
    "print(\" \\n occupation\")\n",
    "print(dataset[\"occupation\"].unique())\n",
    "print(\" \\n relationship\")\n",
    "print(dataset[\"relationship\"].unique())\n",
    "print(\" \\n race\")\n",
    "print(dataset[\"race\"].unique())\n",
    "print(\" \\n native.country\")\n",
    "print(dataset[\"native.country\"].unique())"
   ]
  },
  {
   "cell_type": "markdown",
   "metadata": {},
   "source": [
    "## Exploratory data analysis"
   ]
  },
  {
   "cell_type": "code",
   "execution_count": 9,
   "metadata": {},
   "outputs": [
    {
     "data": {
      "image/png": "[encoded data removed]",
      "text/plain": [
       "<Figure size 432x288 with 1 Axes>"
      ]
     },
     "metadata": {
      "needs_background": "light"
     },
     "output_type": "display_data"
    },
    {
     "data": {
      "image/png": "[encoded data removed]",
      "text/plain": [
       "<Figure size 432x288 with 1 Axes>"
      ]
     },
     "metadata": {
      "needs_background": "light"
     },
     "output_type": "display_data"
    },
    {
     "data": {
      "image/png": "[encoded data removed]",
      "text/plain": [
       "<Figure size 432x288 with 1 Axes>"
      ]
     },
     "metadata": {
      "needs_background": "light"
     },
     "output_type": "display_data"
    },
    {
     "data": {
      "image/png": "[encoded data removed]",
      "text/plain": [
       "<Figure size 432x288 with 1 Axes>"
      ]
     },
     "metadata": {
      "needs_background": "light"
     },
     "output_type": "display_data"
    },
    {
     "data": {
      "image/png": "[encoded data removed]",
      "text/plain": [
       "<Figure size 432x288 with 1 Axes>"
      ]
     },
     "metadata": {
      "needs_background": "light"
     },
     "output_type": "display_data"
    },
    {
     "data": {
      "application/javascript": [
       "\n",
       "            setTimeout(function() {\n",
       "                var nbb_cell_id = 9;\n",
       "                var nbb_unformatted_code = \"#Imbalanced Data\\n# Count of >50K & <=50K\\nax = dataset['income'].hist()\\nax.set_xlabel(\\\"Income\\\")\\nax.set_ylabel(\\\"Quantity\\\")\\nplt.title(\\\"Age quantities\\\")\\nplt.show()\\n\\n\\nax = dataset[\\\"age\\\"].hist()\\nax.set_xlabel(\\\"Age\\\")\\nax.set_ylabel(\\\"Quantity\\\")\\nplt.title(\\\"Age quantities\\\")\\nplt.show()\\n\\n\\nax = dataset[\\\"education.num\\\"].hist()\\nax.set_xlabel(\\\"Education label\\\")\\nax.set_ylabel(\\\"Quantity\\\")\\nplt.title(\\\"Education level quantities\\\")\\nplt.show()\\n\\nax = dataset[\\\"race\\\"].value_counts().plot(kind=\\\"bar\\\")\\nax.set_ylabel(\\\"Quantity\\\")\\nplt.title(\\\"Race quantities\\\")\\nplt.show()\\n\\nax = dataset[\\\"native.country\\\"].value_counts().plot(kind=\\\"bar\\\")\\nax.set_ylabel(\\\"Quantity\\\")\\nplt.title(\\\"Countries quantities\\\")\\nplt.show()\";\n",
       "                var nbb_formatted_code = \"# Imbalanced Data\\n# Count of >50K & <=50K\\nax = dataset[\\\"income\\\"].hist()\\nax.set_xlabel(\\\"Income\\\")\\nax.set_ylabel(\\\"Quantity\\\")\\nplt.title(\\\"Age quantities\\\")\\nplt.show()\\n\\n\\nax = dataset[\\\"age\\\"].hist()\\nax.set_xlabel(\\\"Age\\\")\\nax.set_ylabel(\\\"Quantity\\\")\\nplt.title(\\\"Age quantities\\\")\\nplt.show()\\n\\n\\nax = dataset[\\\"education.num\\\"].hist()\\nax.set_xlabel(\\\"Education label\\\")\\nax.set_ylabel(\\\"Quantity\\\")\\nplt.title(\\\"Education level quantities\\\")\\nplt.show()\\n\\nax = dataset[\\\"race\\\"].value_counts().plot(kind=\\\"bar\\\")\\nax.set_ylabel(\\\"Quantity\\\")\\nplt.title(\\\"Race quantities\\\")\\nplt.show()\\n\\nax = dataset[\\\"native.country\\\"].value_counts().plot(kind=\\\"bar\\\")\\nax.set_ylabel(\\\"Quantity\\\")\\nplt.title(\\\"Countries quantities\\\")\\nplt.show()\";\n",
       "                var nbb_cells = Jupyter.notebook.get_cells();\n",
       "                for (var i = 0; i < nbb_cells.length; ++i) {\n",
       "                    if (nbb_cells[i].input_prompt_number == nbb_cell_id) {\n",
       "                        if (nbb_cells[i].get_text() == nbb_unformatted_code) {\n",
       "                             nbb_cells[i].set_text(nbb_formatted_code);\n",
       "                        }\n",
       "                        break;\n",
       "                    }\n",
       "                }\n",
       "            }, 500);\n",
       "            "
      ],
      "text/plain": [
       "<IPython.core.display.Javascript object>"
      ]
     },
     "metadata": {},
     "output_type": "display_data"
    }
   ],
   "source": [
    "#Imbalanced Data\n",
    "# Count of >50K & <=50K\n",
    "ax = dataset['income'].hist()\n",
    "ax.set_xlabel(\"Income\")\n",
    "ax.set_ylabel(\"Quantity\")\n",
    "plt.title(\"Age quantities\")\n",
    "plt.show()\n",
    "\n",
    "\n",
    "ax = dataset[\"age\"].hist()\n",
    "ax.set_xlabel(\"Age\")\n",
    "ax.set_ylabel(\"Quantity\")\n",
    "plt.title(\"Age quantities\")\n",
    "plt.show()\n",
    "\n",
    "\n",
    "ax = dataset[\"education.num\"].hist()\n",
    "ax.set_xlabel(\"Education label\")\n",
    "ax.set_ylabel(\"Quantity\")\n",
    "plt.title(\"Education level quantities\")\n",
    "plt.show()\n",
    "\n",
    "ax = dataset[\"race\"].value_counts().plot(kind=\"bar\")\n",
    "ax.set_ylabel(\"Quantity\")\n",
    "plt.title(\"Race quantities\")\n",
    "plt.show()\n",
    "\n",
    "ax = dataset[\"native.country\"].value_counts().plot(kind=\"bar\")\n",
    "ax.set_ylabel(\"Quantity\")\n",
    "plt.title(\"Countries quantities\")\n",
    "plt.show()\n",
    "\n",
    "\n"
   ]
  },
  {
   "cell_type": "code",
   "execution_count": 10,
   "metadata": {},
   "outputs": [
    {
     "name": "stdout",
     "output_type": "stream",
     "text": [
      "Dataset with Dropped Labels\n"
     ]
    },
    {
     "data": {
      "text/html": [
       "<div>\n",
       "<style scoped>\n",
       "    .dataframe tbody tr th:only-of-type {\n",
       "        vertical-align: middle;\n",
       "    }\n",
       "\n",
       "    .dataframe tbody tr th {\n",
       "        vertical-align: top;\n",
       "    }\n",
       "\n",
       "    .dataframe thead th {\n",
       "        text-align: right;\n",
       "    }\n",
       "</style>\n",
       "<table border=\"1\" class=\"dataframe\">\n",
       "  <thead>\n",
       "    <tr style=\"text-align: right;\">\n",
       "      <th></th>\n",
       "      <th>age</th>\n",
       "      <th>fnlwgt</th>\n",
       "      <th>education.num</th>\n",
       "      <th>marital.status</th>\n",
       "      <th>sex</th>\n",
       "      <th>capital.gain</th>\n",
       "      <th>capital.loss</th>\n",
       "      <th>hours.per.week</th>\n",
       "      <th>income</th>\n",
       "    </tr>\n",
       "  </thead>\n",
       "  <tbody>\n",
       "    <tr>\n",
       "      <th>0</th>\n",
       "      <td>90</td>\n",
       "      <td>77053</td>\n",
       "      <td>9</td>\n",
       "      <td>0</td>\n",
       "      <td>0</td>\n",
       "      <td>0</td>\n",
       "      <td>4356</td>\n",
       "      <td>40</td>\n",
       "      <td>0</td>\n",
       "    </tr>\n",
       "    <tr>\n",
       "      <th>1</th>\n",
       "      <td>82</td>\n",
       "      <td>132870</td>\n",
       "      <td>9</td>\n",
       "      <td>0</td>\n",
       "      <td>0</td>\n",
       "      <td>0</td>\n",
       "      <td>4356</td>\n",
       "      <td>18</td>\n",
       "      <td>0</td>\n",
       "    </tr>\n",
       "    <tr>\n",
       "      <th>2</th>\n",
       "      <td>66</td>\n",
       "      <td>186061</td>\n",
       "      <td>10</td>\n",
       "      <td>0</td>\n",
       "      <td>0</td>\n",
       "      <td>0</td>\n",
       "      <td>4356</td>\n",
       "      <td>40</td>\n",
       "      <td>0</td>\n",
       "    </tr>\n",
       "    <tr>\n",
       "      <th>3</th>\n",
       "      <td>54</td>\n",
       "      <td>140359</td>\n",
       "      <td>4</td>\n",
       "      <td>0</td>\n",
       "      <td>0</td>\n",
       "      <td>0</td>\n",
       "      <td>3900</td>\n",
       "      <td>40</td>\n",
       "      <td>0</td>\n",
       "    </tr>\n",
       "    <tr>\n",
       "      <th>4</th>\n",
       "      <td>41</td>\n",
       "      <td>264663</td>\n",
       "      <td>10</td>\n",
       "      <td>0</td>\n",
       "      <td>0</td>\n",
       "      <td>0</td>\n",
       "      <td>3900</td>\n",
       "      <td>40</td>\n",
       "      <td>0</td>\n",
       "    </tr>\n",
       "    <tr>\n",
       "      <th>5</th>\n",
       "      <td>34</td>\n",
       "      <td>216864</td>\n",
       "      <td>9</td>\n",
       "      <td>0</td>\n",
       "      <td>0</td>\n",
       "      <td>0</td>\n",
       "      <td>3770</td>\n",
       "      <td>45</td>\n",
       "      <td>0</td>\n",
       "    </tr>\n",
       "    <tr>\n",
       "      <th>6</th>\n",
       "      <td>38</td>\n",
       "      <td>150601</td>\n",
       "      <td>6</td>\n",
       "      <td>0</td>\n",
       "      <td>1</td>\n",
       "      <td>0</td>\n",
       "      <td>3770</td>\n",
       "      <td>40</td>\n",
       "      <td>0</td>\n",
       "    </tr>\n",
       "    <tr>\n",
       "      <th>7</th>\n",
       "      <td>74</td>\n",
       "      <td>88638</td>\n",
       "      <td>16</td>\n",
       "      <td>0</td>\n",
       "      <td>0</td>\n",
       "      <td>0</td>\n",
       "      <td>3683</td>\n",
       "      <td>20</td>\n",
       "      <td>1</td>\n",
       "    </tr>\n",
       "    <tr>\n",
       "      <th>8</th>\n",
       "      <td>68</td>\n",
       "      <td>422013</td>\n",
       "      <td>9</td>\n",
       "      <td>0</td>\n",
       "      <td>0</td>\n",
       "      <td>0</td>\n",
       "      <td>3683</td>\n",
       "      <td>40</td>\n",
       "      <td>0</td>\n",
       "    </tr>\n",
       "    <tr>\n",
       "      <th>9</th>\n",
       "      <td>41</td>\n",
       "      <td>70037</td>\n",
       "      <td>10</td>\n",
       "      <td>0</td>\n",
       "      <td>1</td>\n",
       "      <td>0</td>\n",
       "      <td>3004</td>\n",
       "      <td>60</td>\n",
       "      <td>1</td>\n",
       "    </tr>\n",
       "  </tbody>\n",
       "</table>\n",
       "</div>"
      ],
      "text/plain": [
       "   age  fnlwgt  education.num  marital.status  sex  capital.gain  \\\n",
       "0   90   77053              9               0    0             0   \n",
       "1   82  132870              9               0    0             0   \n",
       "2   66  186061             10               0    0             0   \n",
       "3   54  140359              4               0    0             0   \n",
       "4   41  264663             10               0    0             0   \n",
       "5   34  216864              9               0    0             0   \n",
       "6   38  150601              6               0    1             0   \n",
       "7   74   88638             16               0    0             0   \n",
       "8   68  422013              9               0    0             0   \n",
       "9   41   70037             10               0    1             0   \n",
       "\n",
       "   capital.loss  hours.per.week  income  \n",
       "0          4356              40       0  \n",
       "1          4356              18       0  \n",
       "2          4356              40       0  \n",
       "3          3900              40       0  \n",
       "4          3900              40       0  \n",
       "5          3770              45       0  \n",
       "6          3770              40       0  \n",
       "7          3683              20       1  \n",
       "8          3683              40       0  \n",
       "9          3004              60       1  "
      ]
     },
     "execution_count": 10,
     "metadata": {},
     "output_type": "execute_result"
    },
    {
     "data": {
      "application/javascript": [
       "\n",
       "            setTimeout(function() {\n",
       "                var nbb_cell_id = 10;\n",
       "                var nbb_unformatted_code = \"# Convert Sex value to Male\\\": 1, \\\"Female\\\": 0\\ndataset[\\\"sex\\\"] = dataset[\\\"sex\\\"].map({\\\"Male\\\": 1, \\\"Female\\\": 0})\\n\\n# Create Married Column - Binary Yes(1) or No(0)\\ndataset[\\\"marital.status\\\"] = dataset[\\\"marital.status\\\"].replace(\\n    [\\\"Never-married\\\", \\\"Divorced\\\", \\\"Separated\\\", \\\"Widowed\\\"], \\\"Single\\\"\\n)\\ndataset[\\\"marital.status\\\"] = dataset[\\\"marital.status\\\"].replace(\\n    [\\\"Married-civ-spouse\\\", \\\"Married-spouse-absent\\\", \\\"Married-AF-spouse\\\"], \\\"Married\\\"\\n)\\ndataset[\\\"marital.status\\\"] = dataset[\\\"marital.status\\\"].map({\\\"Married\\\": 1, \\\"Single\\\": 0})\\ndataset[\\\"marital.status\\\"] = dataset[\\\"marital.status\\\"].astype(int)\\n\\ndataset[\\\"income\\\"] = dataset[\\\"income\\\"].map({\\\"<=50K\\\": 0, \\\">50K\\\": 1})\\n# Drop data that would not like to use.\\ndataset.drop(\\n    labels=[\\n        \\\"workclass\\\",\\n        \\\"education\\\",\\n        \\\"occupation\\\",\\n        \\\"relationship\\\",\\n        \\\"race\\\",\\n        \\\"native.country\\\",\\n    ],\\n    axis=1,\\n    inplace=True,\\n)\\n\\n\\nprint(\\\"Dataset with Dropped Labels\\\")\\n\\ndataset.head(10)\";\n",
       "                var nbb_formatted_code = \"# Convert Sex value to Male\\\": 1, \\\"Female\\\": 0\\ndataset[\\\"sex\\\"] = dataset[\\\"sex\\\"].map({\\\"Male\\\": 1, \\\"Female\\\": 0})\\n\\n# Create Married Column - Binary Yes(1) or No(0)\\ndataset[\\\"marital.status\\\"] = dataset[\\\"marital.status\\\"].replace(\\n    [\\\"Never-married\\\", \\\"Divorced\\\", \\\"Separated\\\", \\\"Widowed\\\"], \\\"Single\\\"\\n)\\ndataset[\\\"marital.status\\\"] = dataset[\\\"marital.status\\\"].replace(\\n    [\\\"Married-civ-spouse\\\", \\\"Married-spouse-absent\\\", \\\"Married-AF-spouse\\\"], \\\"Married\\\"\\n)\\ndataset[\\\"marital.status\\\"] = dataset[\\\"marital.status\\\"].map({\\\"Married\\\": 1, \\\"Single\\\": 0})\\ndataset[\\\"marital.status\\\"] = dataset[\\\"marital.status\\\"].astype(int)\\n\\ndataset[\\\"income\\\"] = dataset[\\\"income\\\"].map({\\\"<=50K\\\": 0, \\\">50K\\\": 1})\\n# Drop data that would not like to use.\\ndataset.drop(\\n    labels=[\\n        \\\"workclass\\\",\\n        \\\"education\\\",\\n        \\\"occupation\\\",\\n        \\\"relationship\\\",\\n        \\\"race\\\",\\n        \\\"native.country\\\",\\n    ],\\n    axis=1,\\n    inplace=True,\\n)\\n\\n\\nprint(\\\"Dataset with Dropped Labels\\\")\\n\\ndataset.head(10)\";\n",
       "                var nbb_cells = Jupyter.notebook.get_cells();\n",
       "                for (var i = 0; i < nbb_cells.length; ++i) {\n",
       "                    if (nbb_cells[i].input_prompt_number == nbb_cell_id) {\n",
       "                        if (nbb_cells[i].get_text() == nbb_unformatted_code) {\n",
       "                             nbb_cells[i].set_text(nbb_formatted_code);\n",
       "                        }\n",
       "                        break;\n",
       "                    }\n",
       "                }\n",
       "            }, 500);\n",
       "            "
      ],
      "text/plain": [
       "<IPython.core.display.Javascript object>"
      ]
     },
     "metadata": {},
     "output_type": "display_data"
    }
   ],
   "source": [
    "# Convert Sex value to Male\": 1, \"Female\": 0\n",
    "dataset[\"sex\"] = dataset[\"sex\"].map({\"Male\": 1, \"Female\": 0})\n",
    "\n",
    "# Create Married Column - Binary Yes(1) or No(0)\n",
    "dataset[\"marital.status\"] = dataset[\"marital.status\"].replace(\n",
    "    [\"Never-married\", \"Divorced\", \"Separated\", \"Widowed\"], \"Single\"\n",
    ")\n",
    "dataset[\"marital.status\"] = dataset[\"marital.status\"].replace(\n",
    "    [\"Married-civ-spouse\", \"Married-spouse-absent\", \"Married-AF-spouse\"], \"Married\"\n",
    ")\n",
    "dataset[\"marital.status\"] = dataset[\"marital.status\"].map({\"Married\": 1, \"Single\": 0})\n",
    "dataset[\"marital.status\"] = dataset[\"marital.status\"].astype(int)\n",
    "\n",
    "dataset[\"income\"] = dataset[\"income\"].map({\"<=50K\": 0, \">50K\": 1})\n",
    "# Drop data that would not like to use.\n",
    "dataset.drop(\n",
    "    labels=[\n",
    "        \"workclass\",\n",
    "        \"education\",\n",
    "        \"occupation\",\n",
    "        \"relationship\",\n",
    "        \"race\",\n",
    "        \"native.country\",\n",
    "    ],\n",
    "    axis=1,\n",
    "    inplace=True,\n",
    ")\n",
    "\n",
    "\n",
    "print(\"Dataset with Dropped Labels\")\n",
    "\n",
    "dataset.head(10)"
   ]
  },
  {
   "cell_type": "markdown",
   "metadata": {},
   "source": [
    "# Fitting a model"
   ]
  },
  {
   "cell_type": "code",
   "execution_count": 11,
   "metadata": {},
   "outputs": [
    {
     "data": {
      "application/javascript": [
       "\n",
       "            setTimeout(function() {\n",
       "                var nbb_cell_id = 11;\n",
       "                var nbb_unformatted_code = \"# Preparing the features and target\\nX = dataset.drop(\\\"income\\\", axis=1)\\ny = dataset.income\";\n",
       "                var nbb_formatted_code = \"# Preparing the features and target\\nX = dataset.drop(\\\"income\\\", axis=1)\\ny = dataset.income\";\n",
       "                var nbb_cells = Jupyter.notebook.get_cells();\n",
       "                for (var i = 0; i < nbb_cells.length; ++i) {\n",
       "                    if (nbb_cells[i].input_prompt_number == nbb_cell_id) {\n",
       "                        if (nbb_cells[i].get_text() == nbb_unformatted_code) {\n",
       "                             nbb_cells[i].set_text(nbb_formatted_code);\n",
       "                        }\n",
       "                        break;\n",
       "                    }\n",
       "                }\n",
       "            }, 500);\n",
       "            "
      ],
      "text/plain": [
       "<IPython.core.display.Javascript object>"
      ]
     },
     "metadata": {},
     "output_type": "display_data"
    }
   ],
   "source": [
    "# Preparing the features and target\n",
    "X = dataset.drop(\"income\", axis=1)\n",
    "y = dataset.income\n"
   ]
  },
  {
   "cell_type": "code",
   "execution_count": 12,
   "metadata": {
    "code_folding": []
   },
   "outputs": [
    {
     "data": {
      "application/javascript": [
       "\n",
       "            setTimeout(function() {\n",
       "                var nbb_cell_id = 12;\n",
       "                var nbb_unformatted_code = \"#  safe data (X, y) to local file X.pickle, y.pickle\\n# import pickle\\n\\n# with open(\\\"X.pickle\\\", \\\"wb\\\") as f:\\n#     pickle.dump(X, f)\\n# with open(\\\"y.pickle\\\", \\\"wb\\\") as f:\\n#     pickle.dump(y, f)\";\n",
       "                var nbb_formatted_code = \"#  safe data (X, y) to local file X.pickle, y.pickle\\n# import pickle\\n\\n# with open(\\\"X.pickle\\\", \\\"wb\\\") as f:\\n#     pickle.dump(X, f)\\n# with open(\\\"y.pickle\\\", \\\"wb\\\") as f:\\n#     pickle.dump(y, f)\";\n",
       "                var nbb_cells = Jupyter.notebook.get_cells();\n",
       "                for (var i = 0; i < nbb_cells.length; ++i) {\n",
       "                    if (nbb_cells[i].input_prompt_number == nbb_cell_id) {\n",
       "                        if (nbb_cells[i].get_text() == nbb_unformatted_code) {\n",
       "                             nbb_cells[i].set_text(nbb_formatted_code);\n",
       "                        }\n",
       "                        break;\n",
       "                    }\n",
       "                }\n",
       "            }, 500);\n",
       "            "
      ],
      "text/plain": [
       "<IPython.core.display.Javascript object>"
      ]
     },
     "metadata": {},
     "output_type": "display_data"
    }
   ],
   "source": [
    "#  safe data (X, y) to local file X.pickle, y.pickle\n",
    "# import pickle\n",
    "\n",
    "# with open(\"X.pickle\", \"wb\") as f:\n",
    "#     pickle.dump(X, f)\n",
    "# with open(\"y.pickle\", \"wb\") as f:\n",
    "#     pickle.dump(y, f)"
   ]
  },
  {
   "cell_type": "markdown",
   "metadata": {},
   "source": [
    "## Split data into separate training and test set"
   ]
  },
  {
   "cell_type": "code",
   "execution_count": 13,
   "metadata": {},
   "outputs": [
    {
     "data": {
      "application/javascript": [
       "\n",
       "            setTimeout(function() {\n",
       "                var nbb_cell_id = 13;\n",
       "                var nbb_unformatted_code = \"from sklearn.model_selection import train_test_split\\n\\nX_train, X_test, y_train, y_test = train_test_split(X, y, test_size=0.2, random_state=0)\";\n",
       "                var nbb_formatted_code = \"from sklearn.model_selection import train_test_split\\n\\nX_train, X_test, y_train, y_test = train_test_split(X, y, test_size=0.2, random_state=0)\";\n",
       "                var nbb_cells = Jupyter.notebook.get_cells();\n",
       "                for (var i = 0; i < nbb_cells.length; ++i) {\n",
       "                    if (nbb_cells[i].input_prompt_number == nbb_cell_id) {\n",
       "                        if (nbb_cells[i].get_text() == nbb_unformatted_code) {\n",
       "                             nbb_cells[i].set_text(nbb_formatted_code);\n",
       "                        }\n",
       "                        break;\n",
       "                    }\n",
       "                }\n",
       "            }, 500);\n",
       "            "
      ],
      "text/plain": [
       "<IPython.core.display.Javascript object>"
      ]
     },
     "metadata": {},
     "output_type": "display_data"
    }
   ],
   "source": [
    "from sklearn.model_selection import train_test_split\n",
    "\n",
    "X_train, X_test, y_train, y_test = train_test_split(X, y, test_size=0.2, random_state=0)"
   ]
  },
  {
   "cell_type": "markdown",
   "metadata": {},
   "source": [
    "## Encode categorical variables"
   ]
  },
  {
   "cell_type": "code",
   "execution_count": 14,
   "metadata": {},
   "outputs": [
    {
     "data": {
      "application/javascript": [
       "\n",
       "            setTimeout(function() {\n",
       "                var nbb_cell_id = 14;\n",
       "                var nbb_unformatted_code = \"from sklearn import preprocessing\\n\\ncategorical = [\\n    \\\"education.num\\\",\\n    \\\"marital.status\\\",\\n    \\\"sex\\\",\\n]\\nfor feature in categorical:\\n    le = preprocessing.LabelEncoder()\\n    X_train[feature] = le.fit_transform(X_train[feature])\\n    X_test[feature] = le.transform(X_test[feature])\";\n",
       "                var nbb_formatted_code = \"from sklearn import preprocessing\\n\\ncategorical = [\\n    \\\"education.num\\\",\\n    \\\"marital.status\\\",\\n    \\\"sex\\\",\\n]\\nfor feature in categorical:\\n    le = preprocessing.LabelEncoder()\\n    X_train[feature] = le.fit_transform(X_train[feature])\\n    X_test[feature] = le.transform(X_test[feature])\";\n",
       "                var nbb_cells = Jupyter.notebook.get_cells();\n",
       "                for (var i = 0; i < nbb_cells.length; ++i) {\n",
       "                    if (nbb_cells[i].input_prompt_number == nbb_cell_id) {\n",
       "                        if (nbb_cells[i].get_text() == nbb_unformatted_code) {\n",
       "                             nbb_cells[i].set_text(nbb_formatted_code);\n",
       "                        }\n",
       "                        break;\n",
       "                    }\n",
       "                }\n",
       "            }, 500);\n",
       "            "
      ],
      "text/plain": [
       "<IPython.core.display.Javascript object>"
      ]
     },
     "metadata": {},
     "output_type": "display_data"
    }
   ],
   "source": [
    "from sklearn import preprocessing\n",
    "\n",
    "categorical = [\n",
    "    \"education.num\",\n",
    "    \"marital.status\",\n",
    "    \"sex\",\n",
    "]\n",
    "for feature in categorical:\n",
    "    le = preprocessing.LabelEncoder()\n",
    "    X_train[feature] = le.fit_transform(X_train[feature])\n",
    "    X_test[feature] = le.transform(X_test[feature])"
   ]
  },
  {
   "cell_type": "markdown",
   "metadata": {},
   "source": [
    "## Feature Scaling"
   ]
  },
  {
   "cell_type": "code",
   "execution_count": 15,
   "metadata": {},
   "outputs": [
    {
     "data": {
      "text/html": [
       "<div>\n",
       "<style scoped>\n",
       "    .dataframe tbody tr th:only-of-type {\n",
       "        vertical-align: middle;\n",
       "    }\n",
       "\n",
       "    .dataframe tbody tr th {\n",
       "        vertical-align: top;\n",
       "    }\n",
       "\n",
       "    .dataframe thead th {\n",
       "        text-align: right;\n",
       "    }\n",
       "</style>\n",
       "<table border=\"1\" class=\"dataframe\">\n",
       "  <thead>\n",
       "    <tr style=\"text-align: right;\">\n",
       "      <th></th>\n",
       "      <th>age</th>\n",
       "      <th>fnlwgt</th>\n",
       "      <th>education.num</th>\n",
       "      <th>marital.status</th>\n",
       "      <th>sex</th>\n",
       "      <th>capital.gain</th>\n",
       "      <th>capital.loss</th>\n",
       "      <th>hours.per.week</th>\n",
       "    </tr>\n",
       "  </thead>\n",
       "  <tbody>\n",
       "    <tr>\n",
       "      <th>0</th>\n",
       "      <td>0.177807</td>\n",
       "      <td>0.173244</td>\n",
       "      <td>-0.036491</td>\n",
       "      <td>1.051946</td>\n",
       "      <td>0.698654</td>\n",
       "      <td>-0.144749</td>\n",
       "      <td>-0.21852</td>\n",
       "      <td>0.851632</td>\n",
       "    </tr>\n",
       "    <tr>\n",
       "      <th>1</th>\n",
       "      <td>-0.993245</td>\n",
       "      <td>0.018238</td>\n",
       "      <td>1.130745</td>\n",
       "      <td>-0.950619</td>\n",
       "      <td>0.698654</td>\n",
       "      <td>-0.144749</td>\n",
       "      <td>-0.21852</td>\n",
       "      <td>-1.254868</td>\n",
       "    </tr>\n",
       "    <tr>\n",
       "      <th>2</th>\n",
       "      <td>-0.993245</td>\n",
       "      <td>-0.092370</td>\n",
       "      <td>-0.425570</td>\n",
       "      <td>-0.950619</td>\n",
       "      <td>-1.431324</td>\n",
       "      <td>-0.144749</td>\n",
       "      <td>-0.21852</td>\n",
       "      <td>-0.039580</td>\n",
       "    </tr>\n",
       "    <tr>\n",
       "      <th>3</th>\n",
       "      <td>1.056095</td>\n",
       "      <td>-0.631948</td>\n",
       "      <td>-0.425570</td>\n",
       "      <td>-0.950619</td>\n",
       "      <td>-1.431324</td>\n",
       "      <td>-0.144749</td>\n",
       "      <td>-0.21852</td>\n",
       "      <td>-0.039580</td>\n",
       "    </tr>\n",
       "    <tr>\n",
       "      <th>4</th>\n",
       "      <td>-1.066435</td>\n",
       "      <td>-0.639694</td>\n",
       "      <td>1.130745</td>\n",
       "      <td>-0.950619</td>\n",
       "      <td>-1.431324</td>\n",
       "      <td>-0.144749</td>\n",
       "      <td>-0.21852</td>\n",
       "      <td>-0.039580</td>\n",
       "    </tr>\n",
       "  </tbody>\n",
       "</table>\n",
       "</div>"
      ],
      "text/plain": [
       "        age    fnlwgt  education.num  marital.status       sex  capital.gain  \\\n",
       "0  0.177807  0.173244      -0.036491        1.051946  0.698654     -0.144749   \n",
       "1 -0.993245  0.018238       1.130745       -0.950619  0.698654     -0.144749   \n",
       "2 -0.993245 -0.092370      -0.425570       -0.950619 -1.431324     -0.144749   \n",
       "3  1.056095 -0.631948      -0.425570       -0.950619 -1.431324     -0.144749   \n",
       "4 -1.066435 -0.639694       1.130745       -0.950619 -1.431324     -0.144749   \n",
       "\n",
       "   capital.loss  hours.per.week  \n",
       "0      -0.21852        0.851632  \n",
       "1      -0.21852       -1.254868  \n",
       "2      -0.21852       -0.039580  \n",
       "3      -0.21852       -0.039580  \n",
       "4      -0.21852       -0.039580  "
      ]
     },
     "execution_count": 15,
     "metadata": {},
     "output_type": "execute_result"
    },
    {
     "data": {
      "application/javascript": [
       "\n",
       "            setTimeout(function() {\n",
       "                var nbb_cell_id = 15;\n",
       "                var nbb_unformatted_code = \"from sklearn.preprocessing import StandardScaler\\n\\nscaler = StandardScaler()\\n\\nX_train = pd.DataFrame(scaler.fit_transform(X_train), columns=X.columns)\\n\\nX_test = pd.DataFrame(scaler.transform(X_test), columns=X.columns)\\nX_train.head()\";\n",
       "                var nbb_formatted_code = \"from sklearn.preprocessing import StandardScaler\\n\\nscaler = StandardScaler()\\n\\nX_train = pd.DataFrame(scaler.fit_transform(X_train), columns=X.columns)\\n\\nX_test = pd.DataFrame(scaler.transform(X_test), columns=X.columns)\\nX_train.head()\";\n",
       "                var nbb_cells = Jupyter.notebook.get_cells();\n",
       "                for (var i = 0; i < nbb_cells.length; ++i) {\n",
       "                    if (nbb_cells[i].input_prompt_number == nbb_cell_id) {\n",
       "                        if (nbb_cells[i].get_text() == nbb_unformatted_code) {\n",
       "                             nbb_cells[i].set_text(nbb_formatted_code);\n",
       "                        }\n",
       "                        break;\n",
       "                    }\n",
       "                }\n",
       "            }, 500);\n",
       "            "
      ],
      "text/plain": [
       "<IPython.core.display.Javascript object>"
      ]
     },
     "metadata": {},
     "output_type": "display_data"
    }
   ],
   "source": [
    "from sklearn.preprocessing import StandardScaler\n",
    "\n",
    "scaler = StandardScaler()\n",
    "\n",
    "X_train = pd.DataFrame(scaler.fit_transform(X_train), columns=X.columns)\n",
    "\n",
    "X_test = pd.DataFrame(scaler.transform(X_test), columns=X.columns)\n",
    "X_train.head()"
   ]
  },
  {
   "cell_type": "markdown",
   "metadata": {},
   "source": [
    "# Training models"
   ]
  },
  {
   "cell_type": "markdown",
   "metadata": {},
   "source": [
    "## Analising the % importance level in each feature"
   ]
  },
  {
   "cell_type": "code",
   "execution_count": 16,
   "metadata": {},
   "outputs": [
    {
     "data": {
      "text/html": [
       "<div>\n",
       "<style scoped>\n",
       "    .dataframe tbody tr th:only-of-type {\n",
       "        vertical-align: middle;\n",
       "    }\n",
       "\n",
       "    .dataframe tbody tr th {\n",
       "        vertical-align: top;\n",
       "    }\n",
       "\n",
       "    .dataframe thead th {\n",
       "        text-align: right;\n",
       "    }\n",
       "</style>\n",
       "<table border=\"1\" class=\"dataframe\">\n",
       "  <thead>\n",
       "    <tr style=\"text-align: right;\">\n",
       "      <th></th>\n",
       "      <th>importance</th>\n",
       "    </tr>\n",
       "  </thead>\n",
       "  <tbody>\n",
       "    <tr>\n",
       "      <th>fnlwgt</th>\n",
       "      <td>28.046696</td>\n",
       "    </tr>\n",
       "    <tr>\n",
       "      <th>age</th>\n",
       "      <td>16.261687</td>\n",
       "    </tr>\n",
       "    <tr>\n",
       "      <th>marital.status</th>\n",
       "      <td>15.990657</td>\n",
       "    </tr>\n",
       "    <tr>\n",
       "      <th>education.num</th>\n",
       "      <td>13.589328</td>\n",
       "    </tr>\n",
       "    <tr>\n",
       "      <th>hours.per.week</th>\n",
       "      <td>10.526452</td>\n",
       "    </tr>\n",
       "    <tr>\n",
       "      <th>capital.gain</th>\n",
       "      <td>10.048654</td>\n",
       "    </tr>\n",
       "    <tr>\n",
       "      <th>capital.loss</th>\n",
       "      <td>3.531711</td>\n",
       "    </tr>\n",
       "    <tr>\n",
       "      <th>sex</th>\n",
       "      <td>2.004814</td>\n",
       "    </tr>\n",
       "  </tbody>\n",
       "</table>\n",
       "</div>"
      ],
      "text/plain": [
       "                importance\n",
       "fnlwgt           28.046696\n",
       "age              16.261687\n",
       "marital.status   15.990657\n",
       "education.num    13.589328\n",
       "hours.per.week   10.526452\n",
       "capital.gain     10.048654\n",
       "capital.loss      3.531711\n",
       "sex               2.004814"
      ]
     },
     "metadata": {},
     "output_type": "display_data"
    },
    {
     "name": "stdout",
     "output_type": "stream",
     "text": [
      "Wall time: 3.84 s\n"
     ]
    },
    {
     "data": {
      "application/javascript": [
       "\n",
       "            setTimeout(function() {\n",
       "                var nbb_cell_id = 16;\n",
       "                var nbb_unformatted_code = \"%%time\\nfrom sklearn.ensemble import ExtraTreesClassifier\\n\\nforest = ExtraTreesClassifier(n_estimators=250, random_state=0)\\nforest.fit(X_train, y_train)\\nimportances = forest.feature_importances_\\nfeature_importances = pd.DataFrame(\\n    importances * 100, index=X_train.columns, columns=[\\\"importance\\\"]\\n).sort_values(\\\"importance\\\", ascending=False)\\ndisplay(feature_importances)\";\n",
       "                var nbb_formatted_code = \"%%time\\nfrom sklearn.ensemble import ExtraTreesClassifier\\n\\nforest = ExtraTreesClassifier(n_estimators=250, random_state=0)\\nforest.fit(X_train, y_train)\\nimportances = forest.feature_importances_\\nfeature_importances = pd.DataFrame(\\n    importances * 100, index=X_train.columns, columns=[\\\"importance\\\"]\\n).sort_values(\\\"importance\\\", ascending=False)\\ndisplay(feature_importances)\";\n",
       "                var nbb_cells = Jupyter.notebook.get_cells();\n",
       "                for (var i = 0; i < nbb_cells.length; ++i) {\n",
       "                    if (nbb_cells[i].input_prompt_number == nbb_cell_id) {\n",
       "                        if (nbb_cells[i].get_text() == nbb_unformatted_code) {\n",
       "                             nbb_cells[i].set_text(nbb_formatted_code);\n",
       "                        }\n",
       "                        break;\n",
       "                    }\n",
       "                }\n",
       "            }, 500);\n",
       "            "
      ],
      "text/plain": [
       "<IPython.core.display.Javascript object>"
      ]
     },
     "metadata": {},
     "output_type": "display_data"
    }
   ],
   "source": [
    "%%time\n",
    "from sklearn.ensemble import ExtraTreesClassifier\n",
    "\n",
    "forest = ExtraTreesClassifier(n_estimators=250, random_state=0)\n",
    "forest.fit(X_train, y_train)\n",
    "importances = forest.feature_importances_\n",
    "feature_importances = pd.DataFrame(\n",
    "    importances * 100, index=X_train.columns, columns=[\"importance\"]\n",
    ").sort_values(\"importance\", ascending=False)\n",
    "display(feature_importances)\n"
   ]
  },
  {
   "cell_type": "markdown",
   "metadata": {},
   "source": [
    "## Analisng the accuracy by increasing the number of K"
   ]
  },
  {
   "cell_type": "code",
   "execution_count": 17,
   "metadata": {},
   "outputs": [
    {
     "data": {
      "image/png": "[encoded data removed]",
      "text/plain": [
       "<Figure size 432x288 with 1 Axes>"
      ]
     },
     "metadata": {
      "needs_background": "light"
     },
     "output_type": "display_data"
    },
    {
     "name": "stdout",
     "output_type": "stream",
     "text": [
      "The best K value in this dataset is 23 - Accuracy = 0.8404729003531399\n",
      "Wall time: 26.7 s\n"
     ]
    },
    {
     "data": {
      "application/javascript": [
       "\n",
       "            setTimeout(function() {\n",
       "                var nbb_cell_id = 17;\n",
       "                var nbb_unformatted_code = \"%%time\\n\\n# instantiate learning model (k = 30)\\nfrom sklearn.neighbors import KNeighborsClassifier\\nfrom sklearn import metrics\\nscores = []\\nfor i in range(1,31):\\n    knn = KNeighborsClassifier(n_neighbors=i)\\n    knn.fit(X_train, y_train)\\n    y_pred = knn.predict(X_test)\\n    scores.append(metrics.accuracy_score(y_test, y_pred))\\n\\nsns.lineplot(range(1,31), scores)\\nplt.xlabel('Value of K for KNN')\\nplt.ylabel('Testing Accuracy')\\nplt.title(\\\"Respective accuracy when increased the number of K\\\")\\nplt.grid(True)\\nplt.show()\\nprint(\\n    \\\"The best K value in this dataset is {0} - Accuracy = {1}\\\".format(\\n        scores.index(max(scores)), max(scores)\\n    )\\n)\";\n",
       "                var nbb_formatted_code = \"%%time\\n\\n# instantiate learning model (k = 30)\\nfrom sklearn.neighbors import KNeighborsClassifier\\nfrom sklearn import metrics\\nscores = []\\nfor i in range(1,31):\\n    knn = KNeighborsClassifier(n_neighbors=i)\\n    knn.fit(X_train, y_train)\\n    y_pred = knn.predict(X_test)\\n    scores.append(metrics.accuracy_score(y_test, y_pred))\\n\\nsns.lineplot(range(1,31), scores)\\nplt.xlabel('Value of K for KNN')\\nplt.ylabel('Testing Accuracy')\\nplt.title(\\\"Respective accuracy when increased the number of K\\\")\\nplt.grid(True)\\nplt.show()\\nprint(\\n    \\\"The best K value in this dataset is {0} - Accuracy = {1}\\\".format(\\n        scores.index(max(scores)), max(scores)\\n    )\\n)\";\n",
       "                var nbb_cells = Jupyter.notebook.get_cells();\n",
       "                for (var i = 0; i < nbb_cells.length; ++i) {\n",
       "                    if (nbb_cells[i].input_prompt_number == nbb_cell_id) {\n",
       "                        if (nbb_cells[i].get_text() == nbb_unformatted_code) {\n",
       "                             nbb_cells[i].set_text(nbb_formatted_code);\n",
       "                        }\n",
       "                        break;\n",
       "                    }\n",
       "                }\n",
       "            }, 500);\n",
       "            "
      ],
      "text/plain": [
       "<IPython.core.display.Javascript object>"
      ]
     },
     "metadata": {},
     "output_type": "display_data"
    }
   ],
   "source": [
    "%%time\n",
    "\n",
    "# instantiate learning model (k = 30)\n",
    "from sklearn.neighbors import KNeighborsClassifier\n",
    "from sklearn import metrics\n",
    "scores = []\n",
    "for i in range(1,31):\n",
    "    knn = KNeighborsClassifier(n_neighbors=i)\n",
    "    knn.fit(X_train, y_train)\n",
    "    y_pred = knn.predict(X_test)\n",
    "    scores.append(metrics.accuracy_score(y_test, y_pred))\n",
    "\n",
    "sns.lineplot(range(1,31), scores)\n",
    "plt.xlabel('Value of K for KNN')\n",
    "plt.ylabel('Testing Accuracy')\n",
    "plt.title(\"Respective accuracy when increased the number of K\")\n",
    "plt.grid(True)\n",
    "plt.show()\n",
    "print(\n",
    "    \"The best K value in this dataset is {0} - Accuracy = {1}\".format(\n",
    "        scores.index(max(scores)), max(scores)\n",
    "    )\n",
    ")"
   ]
  },
  {
   "cell_type": "code",
   "execution_count": null,
   "metadata": {},
   "outputs": [],
   "source": []
  },
  {
   "cell_type": "code",
   "execution_count": 20,
   "metadata": {},
   "outputs": [
    {
     "name": "stdout",
     "output_type": "stream",
     "text": [
      "| Model | Accuracy | \n",
      "  LR  :   0.841 \n",
      "  LDA :   0.831 \n",
      "  KNN :   0.842 \n",
      "  CART:   0.810 \n",
      "  NB  :   0.799 \n",
      "  RF  :   0.843 \n",
      "  GBC:   0.865 \n",
      "  XGB:   0.859 \n",
      "Wall time: 3min 37s\n"
     ]
    },
    {
     "data": {
      "application/javascript": [
       "\n",
       "            setTimeout(function() {\n",
       "                var nbb_cell_id = 20;\n",
       "                var nbb_unformatted_code = \"%%time\\nfrom sklearn.linear_model import LogisticRegression\\nfrom sklearn.discriminant_analysis import LinearDiscriminantAnalysis\\nfrom sklearn.naive_bayes import GaussianNB\\nfrom sklearn.model_selection import KFold\\nfrom sklearn.model_selection import cross_val_score\\nfrom sklearn.tree import DecisionTreeClassifier\\nfrom sklearn.ensemble import RandomForestClassifier\\nfrom sklearn.ensemble import GradientBoostingClassifier\\nfrom xgboost import XGBClassifier\\n\\n#Spot Check Algorithms \\nmodels = []\\nmodels.append(('LR  ', LogisticRegression()))\\nmodels.append(('LDA ', LinearDiscriminantAnalysis()))\\nmodels.append(('KNN ', KNeighborsClassifier(n_neighbors=23)))\\nmodels.append(('CART',DecisionTreeClassifier(criterion='entropy')))\\nmodels.append(('NB  ', GaussianNB()))\\nmodels.append(('RF  ', RandomForestClassifier(n_estimators=250,\\n                                            max_features=3,\\n                                            max_depth=3,\\n                                            random_state=0)))\\nmodels.append(('GBC', GradientBoostingClassifier( n_estimators=250, max_depth=4)))\\nmodels.append(('XGB',XGBClassifier()))\\n# evalutate each model in turn\\nresults = []\\nnames = []\\nprint('| Model | Accuracy | ')\\nfor name, model in models:\\n    kfold = KFold(n_splits=30, random_state=0)\\n    cv_results = cross_val_score(model, X_train, y_train, cv=kfold, scoring='accuracy')\\n    results.append(cv_results)\\n    names.append(name)\\n    msg = \\\"  {0}:   {1:.3f} \\\".format(name, cv_results.mean())\\n    \\n    print(msg)\";\n",
       "                var nbb_formatted_code = \"%%time\\nfrom sklearn.linear_model import LogisticRegression\\nfrom sklearn.discriminant_analysis import LinearDiscriminantAnalysis\\nfrom sklearn.naive_bayes import GaussianNB\\nfrom sklearn.model_selection import KFold\\nfrom sklearn.model_selection import cross_val_score\\nfrom sklearn.tree import DecisionTreeClassifier\\nfrom sklearn.ensemble import RandomForestClassifier\\nfrom sklearn.ensemble import GradientBoostingClassifier\\nfrom xgboost import XGBClassifier\\n\\n#Spot Check Algorithms \\nmodels = []\\nmodels.append(('LR  ', LogisticRegression()))\\nmodels.append(('LDA ', LinearDiscriminantAnalysis()))\\nmodels.append(('KNN ', KNeighborsClassifier(n_neighbors=23)))\\nmodels.append(('CART',DecisionTreeClassifier(criterion='entropy')))\\nmodels.append(('NB  ', GaussianNB()))\\nmodels.append(('RF  ', RandomForestClassifier(n_estimators=250,\\n                                            max_features=3,\\n                                            max_depth=3,\\n                                            random_state=0)))\\nmodels.append(('GBC', GradientBoostingClassifier( n_estimators=250, max_depth=4)))\\nmodels.append(('XGB',XGBClassifier()))\\n# evalutate each model in turn\\nresults = []\\nnames = []\\nprint('| Model | Accuracy | ')\\nfor name, model in models:\\n    kfold = KFold(n_splits=30, random_state=0)\\n    cv_results = cross_val_score(model, X_train, y_train, cv=kfold, scoring='accuracy')\\n    results.append(cv_results)\\n    names.append(name)\\n    msg = \\\"  {0}:   {1:.3f} \\\".format(name, cv_results.mean())\\n    \\n    print(msg)\";\n",
       "                var nbb_cells = Jupyter.notebook.get_cells();\n",
       "                for (var i = 0; i < nbb_cells.length; ++i) {\n",
       "                    if (nbb_cells[i].input_prompt_number == nbb_cell_id) {\n",
       "                        if (nbb_cells[i].get_text() == nbb_unformatted_code) {\n",
       "                             nbb_cells[i].set_text(nbb_formatted_code);\n",
       "                        }\n",
       "                        break;\n",
       "                    }\n",
       "                }\n",
       "            }, 500);\n",
       "            "
      ],
      "text/plain": [
       "<IPython.core.display.Javascript object>"
      ]
     },
     "metadata": {},
     "output_type": "display_data"
    }
   ],
   "source": [
    "%%time\n",
    "from sklearn.linear_model import LogisticRegression\n",
    "from sklearn.discriminant_analysis import LinearDiscriminantAnalysis\n",
    "from sklearn.naive_bayes import GaussianNB\n",
    "from sklearn.model_selection import KFold\n",
    "from sklearn.model_selection import cross_val_score\n",
    "from sklearn.tree import DecisionTreeClassifier\n",
    "from sklearn.ensemble import RandomForestClassifier\n",
    "from sklearn.ensemble import GradientBoostingClassifier\n",
    "from xgboost import XGBClassifier\n",
    "\n",
    "#Spot Check Algorithms \n",
    "models = []\n",
    "models.append(('LR  ', LogisticRegression()))\n",
    "models.append(('LDA ', LinearDiscriminantAnalysis()))\n",
    "models.append(('KNN ', KNeighborsClassifier(n_neighbors=23)))\n",
    "models.append(('CART',DecisionTreeClassifier(criterion='entropy')))\n",
    "models.append(('NB  ', GaussianNB()))\n",
    "models.append(('RF  ', RandomForestClassifier(n_estimators=250,\n",
    "                                            max_features=3,\n",
    "                                            max_depth=3,\n",
    "                                            random_state=0)))\n",
    "models.append(('GBC', GradientBoostingClassifier( n_estimators=250, max_depth=4)))\n",
    "models.append(('XGB',XGBClassifier()))\n",
    "# evalutate each model in turn\n",
    "results = []\n",
    "names = []\n",
    "print('| Model | Accuracy | ')\n",
    "for name, model in models:\n",
    "    kfold = KFold(n_splits=30, random_state=0)\n",
    "    cv_results = cross_val_score(model, X_train, y_train, cv=kfold, scoring='accuracy')\n",
    "    results.append(cv_results)\n",
    "    names.append(name)\n",
    "    msg = \"  {0}:   {1:.3f} \".format(name, cv_results.mean())\n",
    "    \n",
    "    print(msg)\n"
   ]
  },
  {
   "cell_type": "code",
   "execution_count": 21,
   "metadata": {},
   "outputs": [
    {
     "data": {
      "image/png": "[encoded data removed]",
      "text/plain": [
       "<Figure size 432x288 with 1 Axes>"
      ]
     },
     "metadata": {
      "needs_background": "light"
     },
     "output_type": "display_data"
    },
    {
     "data": {
      "application/javascript": [
       "\n",
       "            setTimeout(function() {\n",
       "                var nbb_cell_id = 21;\n",
       "                var nbb_unformatted_code = \"fig = plt.figure()\\nfig.suptitle(\\\"Algorith Comparison\\\")\\nax = fig.add_subplot(111)\\nplt.boxplot(results)\\nax.set_xticklabels(names)\\nplt.show()\";\n",
       "                var nbb_formatted_code = \"fig = plt.figure()\\nfig.suptitle(\\\"Algorith Comparison\\\")\\nax = fig.add_subplot(111)\\nplt.boxplot(results)\\nax.set_xticklabels(names)\\nplt.show()\";\n",
       "                var nbb_cells = Jupyter.notebook.get_cells();\n",
       "                for (var i = 0; i < nbb_cells.length; ++i) {\n",
       "                    if (nbb_cells[i].input_prompt_number == nbb_cell_id) {\n",
       "                        if (nbb_cells[i].get_text() == nbb_unformatted_code) {\n",
       "                             nbb_cells[i].set_text(nbb_formatted_code);\n",
       "                        }\n",
       "                        break;\n",
       "                    }\n",
       "                }\n",
       "            }, 500);\n",
       "            "
      ],
      "text/plain": [
       "<IPython.core.display.Javascript object>"
      ]
     },
     "metadata": {},
     "output_type": "display_data"
    }
   ],
   "source": [
    "fig = plt.figure()\n",
    "fig.suptitle(\"Algorith Comparison\")\n",
    "ax = fig.add_subplot(111)\n",
    "plt.boxplot(results)\n",
    "ax.set_xticklabels(names)\n",
    "plt.show()"
   ]
  },
  {
   "cell_type": "code",
   "execution_count": null,
   "metadata": {},
   "outputs": [],
   "source": []
  }
 ],
 "metadata": {
  "kernelspec": {
   "display_name": "Python 3",
   "language": "python",
   "name": "python3"
  },
  "language_info": {
   "codemirror_mode": {
    "name": "ipython",
    "version": 3
   },
   "file_extension": ".py",
   "mimetype": "text/x-python",
   "name": "python",
   "nbconvert_exporter": "python",
   "pygments_lexer": "ipython3",
   "version": "3.7.2"
  },
  "latex_envs": {
   "LaTeX_envs_menu_present": true,
   "autoclose": true,
   "autocomplete": true,
   "bibliofile": "biblio.bib",
   "cite_by": "apalike",
   "current_citInitial": 1,
   "eqLabelWithNumbers": true,
   "eqNumInitial": 1,
   "hotkeys": {
    "equation": "Ctrl-E",
    "itemize": "Ctrl-I"
   },
   "labels_anchors": false,
   "latex_user_defs": false,
   "report_style_numbering": false,
   "user_envs_cfg": false
  },
  "toc": {
   "base_numbering": 1,
   "nav_menu": {},
   "number_sections": true,
   "sideBar": true,
   "skip_h1_title": false,
   "title_cell": "Table of Contents",
   "title_sidebar": "Contents",
   "toc_cell": false,
   "toc_position": {},
   "toc_section_display": true,
   "toc_window_display": false
  },
  "varInspector": {
   "cols": {
    "lenName": 16,
    "lenType": 16,
    "lenVar": 40
   },
   "kernels_config": {
    "python": {
     "delete_cmd_postfix": "",
     "delete_cmd_prefix": "del ",
     "library": "var_list.py",
     "varRefreshCmd": "print(var_dic_list())"
    },
    "r": {
     "delete_cmd_postfix": ") ",
     "delete_cmd_prefix": "rm(",
     "library": "var_list.r",
     "varRefreshCmd": "cat(var_dic_list()) "
    }
   },
   "types_to_exclude": [
    "module",
    "function",
    "builtin_function_or_method",
    "instance",
    "_Feature"
   ],
   "window_display": false
  }
 },
 "nbformat": 4,
 "nbformat_minor": 2
}
